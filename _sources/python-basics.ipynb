{
 "cells": [
  {
   "cell_type": "markdown",
   "id": "a15bdb3e-e108-45ff-abf4-e1301cdd4a21",
   "metadata": {},
   "source": [
    "# Python Basics"
   ]
  },
  {
   "cell_type": "markdown",
   "id": "e53473e3-87e2-4b06-9828-bfb822b98283",
   "metadata": {},
   "source": [
    "## 1. Variables and data types"
   ]
  },
  {
   "cell_type": "markdown",
   "id": "e93198d5",
   "metadata": {},
   "source": [
    "### Scalar types and string type"
   ]
  },
  {
   "cell_type": "markdown",
   "id": "23372a47-4153-4aff-b26f-e7e5ed78322f",
   "metadata": {},
   "source": [
    "Define a variable named `a` and assign to it the value 1."
   ]
  },
  {
   "cell_type": "code",
   "execution_count": 1,
   "id": "ee75328c-01fc-45ff-bd3f-2b8fb83a7b9f",
   "metadata": {},
   "outputs": [],
   "source": [
    "a = 1"
   ]
  },
  {
   "cell_type": "markdown",
   "id": "738a4951-c98e-4ae0-8904-6a1633d5b81b",
   "metadata": {},
   "source": [
    "To print the value of the varaible `a`, we can either run `print(a)` or simplying type `a`. "
   ]
  },
  {
   "cell_type": "code",
   "execution_count": 2,
   "id": "c5e0560d-07eb-451d-bc3f-11b5ce3560c1",
   "metadata": {},
   "outputs": [
    {
     "name": "stdout",
     "output_type": "stream",
     "text": [
      "1\n"
     ]
    }
   ],
   "source": [
    "print(a)"
   ]
  },
  {
   "cell_type": "code",
   "execution_count": 3,
   "id": "602c93c2-36e1-407f-a4f7-d3289bff8468",
   "metadata": {},
   "outputs": [
    {
     "data": {
      "text/plain": [
       "1"
      ]
     },
     "execution_count": 3,
     "metadata": {},
     "output_type": "execute_result"
    }
   ],
   "source": [
    "a"
   ]
  },
  {
   "cell_type": "markdown",
   "id": "3f1bb691-871c-4a2b-b9cd-b45b115ca9de",
   "metadata": {},
   "source": [
    "In Python, every variable has a type associated to it. To get the type of the varaible `a`, use `type(a)`."
   ]
  },
  {
   "cell_type": "code",
   "execution_count": 4,
   "id": "60260821-84eb-42cc-9109-6b3eeae83365",
   "metadata": {},
   "outputs": [
    {
     "data": {
      "text/plain": [
       "int"
      ]
     },
     "execution_count": 4,
     "metadata": {},
     "output_type": "execute_result"
    }
   ],
   "source": [
    "type(a)"
   ]
  },
  {
   "cell_type": "markdown",
   "id": "adfb187f-f9b9-4a7a-ba4f-0f9c861a2883",
   "metadata": {},
   "source": [
    "Let's define more variables and get their types."
   ]
  },
  {
   "cell_type": "code",
   "execution_count": 5,
   "id": "b585ce54-d70c-406e-8fca-c9d01e02aa22",
   "metadata": {},
   "outputs": [],
   "source": [
    "## you can put multiple lines of codes inside a Jupyter notebook cell\n",
    "b = 2.0\n",
    "c = True\n",
    "d = \"Hello World!\""
   ]
  },
  {
   "cell_type": "code",
   "execution_count": 6,
   "id": "dd5f1532-8795-4ca3-991b-c5825d045d96",
   "metadata": {},
   "outputs": [
    {
     "data": {
      "text/plain": [
       "(float, bool, str)"
      ]
     },
     "execution_count": 6,
     "metadata": {},
     "output_type": "execute_result"
    }
   ],
   "source": [
    "type(b), type(c), type(d)"
   ]
  },
  {
   "cell_type": "markdown",
   "id": "85928288-94df-400b-9782-54805a3c2950",
   "metadata": {},
   "source": [
    "### Collection types\n",
    "Data types that can hold multiple values are called collection data types. In Python, there are four collection data types:\n",
    "- List is a collection which is ordered and changeable. Allows duplicate members.\n",
    "- Tuple is a collection which is ordered and unchangeable. Allows duplicate members.\n",
    "- Set is a collection which is unordered and unindexed. No duplicate members.\n",
    "- Dictionary is a collection which is unordered, changeable and indexed. No duplicate members."
   ]
  },
  {
   "cell_type": "markdown",
   "id": "b00d93e5",
   "metadata": {},
   "source": [
    "#### List"
   ]
  },
  {
   "cell_type": "code",
   "execution_count": 7,
   "id": "9bb13d29-150c-4e9c-ba64-b5f2cd45c6e7",
   "metadata": {},
   "outputs": [],
   "source": [
    "L = [a, b, c]"
   ]
  },
  {
   "cell_type": "code",
   "execution_count": 8,
   "id": "2036639e-d015-47fb-9402-538da3df8216",
   "metadata": {},
   "outputs": [
    {
     "data": {
      "text/plain": [
       "list"
      ]
     },
     "execution_count": 8,
     "metadata": {},
     "output_type": "execute_result"
    }
   ],
   "source": [
    "type(L)"
   ]
  },
  {
   "cell_type": "markdown",
   "id": "aed98067-1339-4c44-8375-cdbcc25199d3",
   "metadata": {},
   "source": [
    "Python lists come with many built-in methods that allow you to access and manipulate the elements of the list and the list itself. You can find what methods are available for a list by running `dir(list)`."
   ]
  },
  {
   "cell_type": "code",
   "execution_count": 9,
   "id": "c10b1746",
   "metadata": {},
   "outputs": [
    {
     "data": {
      "text/plain": [
       "['__add__',\n",
       " '__class__',\n",
       " '__class_getitem__',\n",
       " '__contains__',\n",
       " '__delattr__',\n",
       " '__delitem__',\n",
       " '__dir__',\n",
       " '__doc__',\n",
       " '__eq__',\n",
       " '__format__',\n",
       " '__ge__',\n",
       " '__getattribute__',\n",
       " '__getitem__',\n",
       " '__getstate__',\n",
       " '__gt__',\n",
       " '__hash__',\n",
       " '__iadd__',\n",
       " '__imul__',\n",
       " '__init__',\n",
       " '__init_subclass__',\n",
       " '__iter__',\n",
       " '__le__',\n",
       " '__len__',\n",
       " '__lt__',\n",
       " '__mul__',\n",
       " '__ne__',\n",
       " '__new__',\n",
       " '__reduce__',\n",
       " '__reduce_ex__',\n",
       " '__repr__',\n",
       " '__reversed__',\n",
       " '__rmul__',\n",
       " '__setattr__',\n",
       " '__setitem__',\n",
       " '__sizeof__',\n",
       " '__str__',\n",
       " '__subclasshook__',\n",
       " 'append',\n",
       " 'clear',\n",
       " 'copy',\n",
       " 'count',\n",
       " 'extend',\n",
       " 'index',\n",
       " 'insert',\n",
       " 'pop',\n",
       " 'remove',\n",
       " 'reverse',\n",
       " 'sort']"
      ]
     },
     "execution_count": 9,
     "metadata": {},
     "output_type": "execute_result"
    }
   ],
   "source": [
    "dir(list) ## or dir(L)"
   ]
  },
  {
   "cell_type": "code",
   "execution_count": 10,
   "id": "99e21922",
   "metadata": {},
   "outputs": [
    {
     "name": "stdout",
     "output_type": "stream",
     "text": [
      "Help on method_descriptor:\n",
      "\n",
      "append(self, object, /) unbound builtins.list method\n",
      "    Append object to the end of the list.\n",
      "\n"
     ]
    }
   ],
   "source": [
    "## to get help on a function, use the help function\n",
    "help(list.append) ## or help(L.append)"
   ]
  },
  {
   "cell_type": "code",
   "execution_count": 11,
   "id": "a0632b2a",
   "metadata": {},
   "outputs": [
    {
     "data": {
      "text/plain": [
       "(1, 2.0, True)"
      ]
     },
     "execution_count": 11,
     "metadata": {},
     "output_type": "execute_result"
    }
   ],
   "source": [
    "## access elements of a list using 0-based index\n",
    "L[0], L[1], L[2] "
   ]
  },
  {
   "cell_type": "code",
   "execution_count": 12,
   "id": "e1b31a92",
   "metadata": {},
   "outputs": [
    {
     "data": {
      "text/plain": [
       "(True, 2.0, 1)"
      ]
     },
     "execution_count": 12,
     "metadata": {},
     "output_type": "execute_result"
    }
   ],
   "source": [
    "## access elements of a list using negative index\n",
    "L[-1], L[-2], L[-3]"
   ]
  },
  {
   "cell_type": "code",
   "execution_count": 13,
   "id": "3343f457",
   "metadata": {},
   "outputs": [
    {
     "data": {
      "text/plain": [
       "([1, 2.0], [2.0, True], [1, 2.0])"
      ]
     },
     "execution_count": 13,
     "metadata": {},
     "output_type": "execute_result"
    }
   ],
   "source": [
    "## access elements of a list using slicing\n",
    "L[0:2], L[1:], L[:2]"
   ]
  },
  {
   "cell_type": "code",
   "execution_count": 14,
   "id": "41bf48f1",
   "metadata": {},
   "outputs": [
    {
     "data": {
      "text/plain": [
       "3"
      ]
     },
     "execution_count": 14,
     "metadata": {},
     "output_type": "execute_result"
    }
   ],
   "source": [
    "## get the length of a list\n",
    "len(L)"
   ]
  },
  {
   "cell_type": "code",
   "execution_count": 15,
   "id": "97b13f03",
   "metadata": {},
   "outputs": [
    {
     "name": "stdout",
     "output_type": "stream",
     "text": [
      "[1, 2.0, True, 4]\n"
     ]
    }
   ],
   "source": [
    "## append an element to a list\n",
    "L.append(4)\n",
    "print(L)"
   ]
  },
  {
   "cell_type": "code",
   "execution_count": 16,
   "id": "d77f4e4f",
   "metadata": {},
   "outputs": [
    {
     "name": "stdout",
     "output_type": "stream",
     "text": [
      "[1, 3, 2.0, True, 4]\n"
     ]
    }
   ],
   "source": [
    "## insert an element to a list\n",
    "L.insert(1, 3)\n",
    "print(L)"
   ]
  },
  {
   "cell_type": "code",
   "execution_count": 17,
   "id": "1d2af1db",
   "metadata": {},
   "outputs": [
    {
     "name": "stdout",
     "output_type": "stream",
     "text": [
      "[1, 2.0, True, 4]\n"
     ]
    }
   ],
   "source": [
    "## remove an element from a list\n",
    "L.remove(3)\n",
    "print(L)"
   ]
  },
  {
   "cell_type": "code",
   "execution_count": 18,
   "id": "d326f2cb",
   "metadata": {},
   "outputs": [
    {
     "name": "stdout",
     "output_type": "stream",
     "text": [
      "[1, 2.0, True]\n"
     ]
    }
   ],
   "source": [
    "## pop an element from a list\n",
    "L.pop()\n",
    "print(L)"
   ]
  },
  {
   "cell_type": "code",
   "execution_count": 19,
   "id": "8cb3a87b",
   "metadata": {},
   "outputs": [
    {
     "name": "stdout",
     "output_type": "stream",
     "text": [
      "[1, 2.0, True, 5, 6]\n"
     ]
    }
   ],
   "source": [
    "## concatenate two lists\n",
    "L2 = [5, 6]\n",
    "L3 = L + L2\n",
    "print(L3)"
   ]
  },
  {
   "cell_type": "markdown",
   "id": "a91dcbf2",
   "metadata": {},
   "source": [
    "#### Tuple"
   ]
  },
  {
   "cell_type": "markdown",
   "id": "1bfddf75",
   "metadata": {},
   "source": [
    "Tuple is similar to list, but it is immutable (i.e., you cannot change its elements once it is created)."
   ]
  },
  {
   "cell_type": "code",
   "execution_count": 20,
   "id": "d976b001",
   "metadata": {},
   "outputs": [
    {
     "name": "stdout",
     "output_type": "stream",
     "text": [
      "<class 'tuple'>\n"
     ]
    }
   ],
   "source": [
    "t = (1, 2, 3)\n",
    "print(type(t))"
   ]
  },
  {
   "cell_type": "code",
   "execution_count": 21,
   "id": "7220be90",
   "metadata": {},
   "outputs": [
    {
     "name": "stdout",
     "output_type": "stream",
     "text": [
      "Error encountered: 'tuple' object has no attribute 'append'\n"
     ]
    }
   ],
   "source": [
    "try:\n",
    "    t.append(4)\n",
    "except Exception as e:\n",
    "    print(f\"Error encountered: {e}\")"
   ]
  },
  {
   "cell_type": "markdown",
   "id": "6a603ec2",
   "metadata": {},
   "source": [
    "#### Set"
   ]
  },
  {
   "cell_type": "code",
   "execution_count": 22,
   "id": "f85d1df2",
   "metadata": {},
   "outputs": [
    {
     "name": "stdout",
     "output_type": "stream",
     "text": [
      "{1, 2, 3}\n",
      "<class 'set'>\n",
      "3\n"
     ]
    }
   ],
   "source": [
    "s = {1, 2, 3}\n",
    "print(s)\n",
    "print(type(s))\n",
    "print(len(s))"
   ]
  },
  {
   "cell_type": "code",
   "execution_count": 23,
   "id": "be05620c",
   "metadata": {},
   "outputs": [
    {
     "name": "stdout",
     "output_type": "stream",
     "text": [
      "{1, 2, 3, 4}\n",
      "{1, 2, 3}\n"
     ]
    }
   ],
   "source": [
    "s.add(4) ## add an element to a set\n",
    "print(s)\n",
    "s.remove(4) ## remove an element from a set\n",
    "print(s)"
   ]
  },
  {
   "cell_type": "code",
   "execution_count": 24,
   "id": "0310e642",
   "metadata": {},
   "outputs": [
    {
     "name": "stdout",
     "output_type": "stream",
     "text": [
      "{1, 2, 3, 4, 5}\n",
      "{3}\n",
      "{1, 2}\n"
     ]
    }
   ],
   "source": [
    "## set operations\n",
    "s1 = {1, 2, 3}\n",
    "s2 = {3, 4, 5}\n",
    "print(s1.union(s2))\n",
    "print(s1.intersection(s2))\n",
    "print(s1.difference(s2))\n"
   ]
  },
  {
   "cell_type": "markdown",
   "id": "0eea9814",
   "metadata": {},
   "source": [
    "#### Dictionaries\n",
    "Dictionary is a collection of key-value pairs. Each key-value pair maps the key to its corresponding value. Dictionaries are unordered, so the order that the keys are added doesn't necessarily reflect what order they may be reported back."
   ]
  },
  {
   "cell_type": "code",
   "execution_count": 25,
   "id": "38259006",
   "metadata": {},
   "outputs": [
    {
     "name": "stdout",
     "output_type": "stream",
     "text": [
      "{'a': 1, 'b': 2, 'c': 3}\n",
      "<class 'dict'>\n",
      "3\n"
     ]
    }
   ],
   "source": [
    "d = {\"a\": 1, \"b\": 2, \"c\": 3}\n",
    "print(d)\n",
    "print(type(d))\n",
    "print(len(d))"
   ]
  },
  {
   "cell_type": "code",
   "execution_count": 26,
   "id": "866bba75",
   "metadata": {},
   "outputs": [
    {
     "name": "stdout",
     "output_type": "stream",
     "text": [
      "1\n",
      "1\n",
      "{'a': 1, 'b': 2, 'c': 3, 'd': 4}\n",
      "{'a': 1, 'b': 2, 'c': 3}\n",
      "dict_keys(['a', 'b', 'c'])\n",
      "dict_values([1, 2, 3])\n",
      "dict_items([('a', 1), ('b', 2), ('c', 3)])\n"
     ]
    }
   ],
   "source": [
    "## access elements of a dictionary\n",
    "print(d[\"a\"])\n",
    "print(d.get(\"a\"))\n",
    "\n",
    "## add an element to a dictionary\n",
    "d[\"d\"] = 4\n",
    "print(d)\n",
    "\n",
    "## remove an element from a dictionary\n",
    "d.pop(\"d\")\n",
    "print(d)\n",
    "\n",
    "## get the keys of a dictionary\n",
    "print(d.keys())\n",
    "\n",
    "## get the values of a dictionary\n",
    "print(d.values())\n",
    "\n",
    "## get the items of a dictionary\n",
    "print(d.items())\n"
   ]
  },
  {
   "cell_type": "markdown",
   "id": "21bc1737",
   "metadata": {},
   "source": [
    "## 2. Control flow"
   ]
  },
  {
   "cell_type": "markdown",
   "id": "e242ca5b",
   "metadata": {},
   "source": [
    "### Conditional statements"
   ]
  },
  {
   "cell_type": "code",
   "execution_count": 27,
   "id": "f3b04ab9",
   "metadata": {},
   "outputs": [
    {
     "name": "stdout",
     "output_type": "stream",
     "text": [
      "Condition is True\n"
     ]
    }
   ],
   "source": [
    "condition = True\n",
    "if condition:\n",
    "    print(\"Condition is True\")\n",
    "else:\n",
    "    print(\"Condition is False\")\n"
   ]
  },
  {
   "cell_type": "code",
   "execution_count": 28,
   "id": "c1d942ee",
   "metadata": {},
   "outputs": [
    {
     "name": "stdout",
     "output_type": "stream",
     "text": [
      "a is less than b\n"
     ]
    }
   ],
   "source": [
    "a = 1\n",
    "b = 2\n",
    "if a > b:\n",
    "    print(\"a is greater than b\")\n",
    "elif a < b:\n",
    "    print(\"a is less than b\")\n",
    "else:\n",
    "    print(\"a is equal to b\")"
   ]
  },
  {
   "cell_type": "markdown",
   "id": "0c6751b6",
   "metadata": {},
   "source": [
    "### Loops"
   ]
  },
  {
   "cell_type": "code",
   "execution_count": 29,
   "id": "99c7e5a2",
   "metadata": {},
   "outputs": [
    {
     "name": "stdout",
     "output_type": "stream",
     "text": [
      "0\n",
      "1\n",
      "2\n",
      "3\n",
      "4\n"
     ]
    }
   ],
   "source": [
    "## for loop\n",
    "L = [0, 1, 2, 3, 4]\n",
    "for i in L:\n",
    "    print(i)"
   ]
  },
  {
   "cell_type": "code",
   "execution_count": 30,
   "id": "57d52360",
   "metadata": {},
   "outputs": [
    {
     "name": "stdout",
     "output_type": "stream",
     "text": [
      "0\n",
      "hello world\n",
      "2.0\n",
      "True\n",
      "[1, 2, 3]\n"
     ]
    }
   ],
   "source": [
    "L = [0, 'hello world', 2.0, True, [1, 2, 3]]\n",
    "for i in L:\n",
    "    print(i)"
   ]
  },
  {
   "cell_type": "code",
   "execution_count": 31,
   "id": "6b318a1a",
   "metadata": {},
   "outputs": [
    {
     "name": "stdout",
     "output_type": "stream",
     "text": [
      "0\n",
      "1\n",
      "2\n",
      "3\n",
      "4\n"
     ]
    }
   ],
   "source": [
    "## while loop\n",
    "i = 0\n",
    "while i < 5:\n",
    "    print(i)\n",
    "    i += 1"
   ]
  },
  {
   "cell_type": "markdown",
   "id": "f93fc7b0",
   "metadata": {},
   "source": [
    "## 3. Functions\n",
    "Functions are reusable pieces of code that accept inputs and produce outputs. They allow you reuse code and make your code more modular."
   ]
  },
  {
   "cell_type": "code",
   "execution_count": 32,
   "id": "30c8b38f",
   "metadata": {},
   "outputs": [
    {
     "name": "stdout",
     "output_type": "stream",
     "text": [
      "25\n"
     ]
    }
   ],
   "source": [
    "def sum_of_squares(a, b):\n",
    "    return a**2 + b**2\n",
    "\n",
    "print(sum_of_squares(3, 4))"
   ]
  },
  {
   "cell_type": "code",
   "execution_count": 33,
   "id": "8fd95e49",
   "metadata": {},
   "outputs": [
    {
     "name": "stdout",
     "output_type": "stream",
     "text": [
      "15\n"
     ]
    }
   ],
   "source": [
    "def sum(L):\n",
    "    s = 0\n",
    "    for i in L:\n",
    "        s += i\n",
    "    return s\n",
    "\n",
    "print(sum([1, 2, 3, 4, 5]))"
   ]
  },
  {
   "cell_type": "code",
   "execution_count": 34,
   "id": "a3df8f4b",
   "metadata": {},
   "outputs": [
    {
     "name": "stdout",
     "output_type": "stream",
     "text": [
      "3.0\n"
     ]
    }
   ],
   "source": [
    "def mean(L):\n",
    "    return sum(L) / len(L)\n",
    "\n",
    "print(mean([1, 2, 3, 4, 5]))"
   ]
  },
  {
   "cell_type": "markdown",
   "id": "3c872f23",
   "metadata": {},
   "source": [
    "## 4. Classes and objects\n",
    "Classes are a way to bundle data and functionality together. An object is an instance of a class. The data types we have been using so far are actually classes. For example, `List` is a class and `list()` or `[]` creates an object of the class `List`. Even the scalar types like `int`, `float`, `str` are classes in Python. When you create a variable of type `str`, you are creating an object of the class `str`. Remember that in Python, everything is an object of some class.\n",
    "\n",
    "Besides the built-in classes, you can define your own classes. A class is defined using the `class` keyword followed by the class name. The class definition contains the attributes and methods of the class."
   ]
  },
  {
   "cell_type": "code",
   "execution_count": 35,
   "id": "9a82fd49",
   "metadata": {},
   "outputs": [
    {
     "name": "stdout",
     "output_type": "stream",
     "text": [
      "3\n",
      "4\n",
      "12\n",
      "14\n",
      "Rectangle(width=3, height=4)\n"
     ]
    }
   ],
   "source": [
    "class Rectangle:\n",
    "    def __init__(self, width, height):\n",
    "        self.width = width\n",
    "        self.height = height\n",
    "\n",
    "    def area(self):\n",
    "        return self.width * self.height\n",
    "    \n",
    "    def perimeter(self):\n",
    "        return 2 * (self.width + self.height)\n",
    "    \n",
    "    def __str__(self):\n",
    "        return f\"Rectangle(width={self.width}, height={self.height})\"\n",
    "    \n",
    "rec = Rectangle(3, 4)\n",
    "print(rec.width)\n",
    "print(rec.height)\n",
    "print(rec.area())\n",
    "print(rec.perimeter())\n",
    "print(rec)"
   ]
  },
  {
   "cell_type": "markdown",
   "id": "6c88b2aa",
   "metadata": {},
   "source": [
    "## 5. Modules and packages\n",
    "Python modules are files that contain Python code. A Python package is a directory that contains a collection of Python modules. You can import a module or a package using the `import` keyword."
   ]
  },
  {
   "cell_type": "code",
   "execution_count": 36,
   "id": "e3a6c164",
   "metadata": {},
   "outputs": [],
   "source": [
    "import numpy as np"
   ]
  },
  {
   "cell_type": "code",
   "execution_count": 37,
   "id": "8a486ad7",
   "metadata": {},
   "outputs": [
    {
     "name": "stdout",
     "output_type": "stream",
     "text": [
      "[1 2 3]\n",
      "<class 'numpy.ndarray'>\n",
      "(3,)\n",
      "6\n"
     ]
    }
   ],
   "source": [
    "v = np.array([1, 2, 3])\n",
    "print(v)\n",
    "print(type(v))\n",
    "print(v.shape)\n",
    "print(v.sum())"
   ]
  }
 ],
 "metadata": {
  "kernelspec": {
   "display_name": ".venv",
   "language": "python",
   "name": "python3"
  },
  "language_info": {
   "codemirror_mode": {
    "name": "ipython",
    "version": 3
   },
   "file_extension": ".py",
   "mimetype": "text/x-python",
   "name": "python",
   "nbconvert_exporter": "python",
   "pygments_lexer": "ipython3",
   "version": "3.12.5"
  }
 },
 "nbformat": 4,
 "nbformat_minor": 5
}
