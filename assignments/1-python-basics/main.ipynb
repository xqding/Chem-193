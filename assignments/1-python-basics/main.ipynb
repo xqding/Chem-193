{
 "cells": [
  {
   "cell_type": "markdown",
   "metadata": {},
   "source": [
    "# Assignment 1: Python Basics"
   ]
  },
  {
   "cell_type": "markdown",
   "metadata": {},
   "source": [
    "Proteins are clustered into families based on sequence similarity. A protein family is a group of proteins that share a common evolutionary origin, reflected by their related functions and similarities in sequence or structure. Sequences of proteins in a family are aligned to identify the conserved regions and the variations in the family. Such an alignment is called a multiple sequence alignment (MSA).\n",
    "\n",
    "In this assignment, you will write Python code to process the MSA of a protein family. The MSA is stored in a text file in the [Stockholm format](https://en.wikipedia.org/wiki/Stockholm_format). The Stockholm formatted file looks like the following:\n",
    "\n",
    "```\n",
    "# STOCKHOLM 1.0\n",
    "#=GF ID   EXAMPLE\n",
    "<seqname> <aligned sequence>\n",
    "<seqname> <aligned sequence>\n",
    "<seqname> <aligned sequence>\n",
    "//\n",
    "```\n",
    "\n",
    "The first line shows the version of the Stockholm format. Each line that starts with `#` is a comment and can be ignored. It is followed by the aligned sequences of the proteins in the family, one sequence per line. Each line contains the sequence name (including start and end positions) and the aligned sequence separated by spaces. The alignment is ended by `//`.\n",
    "\n",
    "First, let us download a sample MSA file that we will use for this assignment. The following code downloads the MSA of the [protein family PF00041](https://www.ebi.ac.uk/interpro/entry/pfam/PF00041/) from the Pfam database and saves it to the file `PF00041_seed.txt` in the folder `data`. Within the protein sequence, letters represent the amino acids (e.g., `A` for Alanine, `C` for Cysteine, etc.), and `-` and `.` are gaps. \n"
   ]
  },
  {
   "cell_type": "code",
   "execution_count": 8,
   "metadata": {},
   "outputs": [],
   "source": [
    "import urllib3\n",
    "import gzip\n",
    "\n",
    "pfam_id = \"PF00041\"\n",
    "http = urllib3.PoolManager()\n",
    "r = http.request(\n",
    "    \"GET\",\n",
    "    f\"https://www.ebi.ac.uk/interpro/wwwapi//entry/pfam/{pfam_id}/?annotation=alignment:seed&download\",\n",
    ")\n",
    "data = gzip.decompress(r.data)\n",
    "data = data.decode()\n",
    "with open(f\"./data/{pfam_id}_seed.txt\".format(pfam_id), \"w\") as file_handle:\n",
    "    print(data, file=file_handle)"
   ]
  },
  {
   "cell_type": "markdown",
   "metadata": {},
   "source": [
    "You can open the file `PF00041_seed.txt` in a text editor to see the content of the MSA file. In the following, you will write Python code to read this file and process the MSA ."
   ]
  },
  {
   "cell_type": "markdown",
   "metadata": {},
   "source": [
    "## Part 1\n",
    "\n",
    "1. Read the MSA file `PF00041_seed.txt` and store the sequences in a dictionary. The key of each item in the dictionary is the sequence name, and the value is the aligned sequence as a string. The sequence name should include the start and end positions of the sequence if provided. If the start and end positions are not provided, you can use the sequence name as it is. Keep the gaps in the aligned sequences.\n",
    "\n",
    "2. Write a function to compute the number of protein sequences that are longer than 100 amino acids, excluding gaps. Use the dictionary created in the previous step as input to this function.\n",
    "\n",
    "3. Write a function to get the names of the protein sequences that has the most and the least number of amino acids, excluding gaps. If there are multiple sequences with the same number of amino acids, you can report any of them. Use the dictionary created in the first step to implement this function."
   ]
  },
  {
   "cell_type": "code",
   "execution_count": 12,
   "metadata": {},
   "outputs": [],
   "source": [
    "## msa is the dictionary that will store the MSA\n",
    "msa = {}\n",
    "with open(f\"./data/{pfam_id}_seed.txt\", \"r\") as file_handle:\n",
    "    for line in file_handle:\n",
    "        ######################################################################\n",
    "        ## write code to parse the MSA file and store it in the dictionary msa\n",
    "        \n",
    "        None\n",
    "        ######################################################################"
   ]
  },
  {
   "cell_type": "code",
   "execution_count": 13,
   "metadata": {},
   "outputs": [],
   "source": [
    "def compute_num_of_long_proteins(msa: dict) -> int:\n",
    "    \"\"\"\n",
    "    This function computes the number of proteins in the MSA that are longer than \n",
    "    100 amino acids\n",
    "    \"\"\"\n",
    "    ####################################################################\n",
    "    ## write your code here\n",
    "    None\n",
    "    ####################################################################"
   ]
  },
  {
   "cell_type": "code",
   "execution_count": null,
   "metadata": {},
   "outputs": [],
   "source": [
    "def get_longest_protein(msa: dict) -> str:\n",
    "    \"\"\"\n",
    "    This function computes the longest protein in the MSA\n",
    "    \"\"\"\n",
    "    ####################################################################\n",
    "    ## write your code here\n",
    "    None\n",
    "    ####################################################################"
   ]
  },
  {
   "cell_type": "code",
   "execution_count": 14,
   "metadata": {},
   "outputs": [],
   "source": [
    "def get_shortest_protein(msa: dict) -> str:\n",
    "    \"\"\"\n",
    "    This function computes the shortest protein in the MSA\n",
    "    \"\"\"\n",
    "    ####################################################################\n",
    "    ## write your code here\n",
    "    None\n",
    "    ####################################################################"
   ]
  },
  {
   "cell_type": "code",
   "execution_count": null,
   "metadata": {},
   "outputs": [],
   "source": []
  }
 ],
 "metadata": {
  "kernelspec": {
   "display_name": ".venv",
   "language": "python",
   "name": "python3"
  },
  "language_info": {
   "codemirror_mode": {
    "name": "ipython",
    "version": 3
   },
   "file_extension": ".py",
   "mimetype": "text/x-python",
   "name": "python",
   "nbconvert_exporter": "python",
   "pygments_lexer": "ipython3",
   "version": "3.12.5"
  }
 },
 "nbformat": 4,
 "nbformat_minor": 2
}
